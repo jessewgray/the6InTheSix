{
 "cells": [
  {
   "cell_type": "code",
   "execution_count": 16,
   "metadata": {},
   "outputs": [],
   "source": [
    "import pandas as pd\n",
    "from bs4 import BeautifulSoup as bs\n",
    "import requests\n",
    "from tqdm import tqdm\n",
    "import itertools"
   ]
  },
  {
   "cell_type": "code",
   "execution_count": 63,
   "metadata": {},
   "outputs": [],
   "source": [
    "#GlassDoor Payload (username and Password)\n",
    "\n",
    "url_info={'ontario-':{'data-scientist-':'salary-SRCH_IL.0,7_IS4080_KO8,22_IP',\n",
    "                      'data-engineer-': 'salary-SRCH_IL.0,7_IS4080_KO8,21_IP',\n",
    "                      'data-analyst-':'salary-SRCH_IL.0,7_IS4080_KO8,20_IP'},\n",
    "           'british-columbia-': {'data-scientist-': 'salary-SRCH_IL.0,16_IS4075_KO17,31_IP',\n",
    "                                'data-engineer-': 'salary-SRCH_IL.0,16_IS4075_KO17,30_IP',\n",
    "                                'data-analyst-': 'salary-SRCH_IL.0,16_IS4075_KO17,29_IP'},\n",
    "           'alberta-': {'data-scientist-': 'salary-SRCH_IL.0,7_IS4074_KO8,22_IP',\n",
    "                        'data-engineer-': 'salary-SRCH_IL.0,7_IS4074_KO8,21_IP',\n",
    "                       'data-analyst-': 'salary-SRCH_IL.0,7_IS4074_KO8,20_IP'},\n",
    "           'manitoba-': {'data-scientist-': 'salary-SRCH_IL.0,8_IS4076_KO9,23_IP',\n",
    "                         'data-engineer-': 'salary-SRCH_IL.0,8_IS4076_KO9,22_IP',\n",
    "                         'data-analyst-': 'salary-SRCH_IL.0,8_IS4076_KO9,21_IP'},\n",
    "           'quebec-': {'data-scientist-': 'salary-SRCH_IL.0,6_IM991_KO7,21_IP',\n",
    "                       'data-engineer-': 'salary-SRCH_IL.0,6_IM991_KO7,20_IP',\n",
    "                       'data-analyst-': 'salary-SRCH_IL.0,6_IM991_KO7,19_IP'},\n",
    "           'nova-scotia-': {'data-scientist-': 'salary-SRCH_IL.0,11_IS4079_KO12,26_IP',\n",
    "                            'data-engineer-': 'salary-SRCH_IL.0,11_IS4079_KO12,25_IP',\n",
    "                            'data-analyst-': 'salary-SRCH_IL.0,11_IS4079_KO12,24_IP'},\n",
    "           'saskatchewan-': {'data-scientist-': 'salary-SRCH_IL.0,12_IS4083_KO13,27_IP',\n",
    "                             'data-engineer-': 'salary-SRCH_IL.0,12_IS4083_KO13,26_IP',\n",
    "                             'data-analyst-': 'salary-SRCH_IL.0,12_IS4083_KO13,25_IP'},\n",
    "           'new-brunswick-': {'data-scientist-': 'salary-SRCH_IL.0,13_IS4077_KO14,28_IP',\n",
    "                              'data-engineer-': 'salary-SRCH_IL.0,13_IS4077_KO14,27_IP',\n",
    "                              'data-analyst-': 'salary-SRCH_IL.0,13_IS4077_KO14,26_IP'},\n",
    "           'newfoundland-and-labrador-': {'data-scientist-': 'salary-SRCH_IL.0,25_IS4078_KO26,40_IP',\n",
    "                                          'data-engineer-': 'salary-SRCH_IL.0,25_IS4078_KO26,39_IP',\n",
    "                                          'data-analyst-': 'salary-SRCH_IL.0,25_IS4078_KO26,38_IP'},\n",
    "           'prince-edward-island-': {'data-scientist-': 'salary-SRCH_IL.0,20_IS4081_KO21,35_IP',\n",
    "                                     'data-engineer-': 'salary-SRCH_IL.0,20_IS4081_KO21,34_IP',\n",
    "                                     'data-analyst-': 'salary-SRCH_IL.0,20_IS4081_KO21,33_IP'},\n",
    "           'northwest-territories-': {'data-scientist-': 'salary-SRCH_IL.0,21_IS4085_KO22,36_IP',\n",
    "                                      'data-engineer-': 'salary-SRCH_IL.0,21_IS4085_KO22,35_IP',\n",
    "                                      'data-analyst-': 'salary-SRCH_IL.0,21_IS4085_KO22,34_IP'},\n",
    "           'yukon-': {'data-scientist-': 'salary-SRCH_IL.0,5_IS4084_KO6,20_IP',\n",
    "                      'data-engineer-': 'salary-SRCH_IL.0,5_IS4084_KO6,19_IP',\n",
    "                      'data-analyst-': 'salary-SRCH_IL.0,5_IS4084_KO6,18_IP'},\n",
    "           'nunavut-': {'data-scientist-':'salary-SRCH_IL.0,7_IS4086_KO8,22_IP',\n",
    "                        'data-engineer-': 'salary-SRCH_IL.0,7_IS4086_KO8,21_IP',\n",
    "                        'data-analyst-': 'salary-SRCH_IL.0,7_IS4086_KO8,20_IP'}\n",
    "          }\n",
    "\n",
    "base_url='https://www.glassdoor.ca/Salaries/'\n",
    "urls=[]\n",
    "pages=list(range(1,3))\n",
    "\n",
    "for k1, v1 in url_info.items():\n",
    "    for k2, v2 in v1.items():\n",
    "        for page in pages:\n",
    "            combined_url=base_url+k1+k2+v2+str(page)+\".htm\"\n",
    "            urls.append(combined_url)"
   ]
  },
  {
   "cell_type": "code",
   "execution_count": null,
   "metadata": {},
   "outputs": [],
   "source": [
    "for k1, v1 in url_info.items():\n",
    "    for k2, v2 in v1.items():\n",
    "        for page in pages:\n",
    "            print (k1)\n",
    "            print (k2)\n",
    "            print (v2)\n",
    "            print (page)"
   ]
  },
  {
   "cell_type": "code",
   "execution_count": 65,
   "metadata": {},
   "outputs": [
    {
     "name": "stdout",
     "output_type": "stream",
     "text": [
      "<!DOCTYPE html><html><head><title>Apache Tomcat - Error report</title><style type=\"text/css\">H1 {font-family:Tahoma,Arial,sans-serif;color:white;background-color:#525D76;font-size:22px;} H2 {font-family:Tahoma,Arial,sans-serif;color:white;background-color:#525D76;font-size:16px;} H3 {font-family:Tahoma,Arial,sans-serif;color:white;background-color:#525D76;font-size:14px;} BODY {font-family:Tahoma,Arial,sans-serif;color:black;background-color:white;} B {font-family:Tahoma,Arial,sans-serif;color:white;background-color:#525D76;} P {font-family:Tahoma,Arial,sans-serif;background:white;color:black;font-size:12px;}A {color : black;}A.name {color : black;}.line {height: 1px; background-color: #525D76; border: none;}</style> </head><body><h1>HTTP Status 403 - Bots not allowed</h1><div class=\"line\"></div><p><b>type</b> Status report</p><p><b>message</b> <u>Bots not allowed</u></p><p><b>description</b> <u>Access to the specified resource has been forbidden.</u></p><hr class=\"line\"><h3>Apache Tomcat</h3></body></html>\n"
     ]
    }
   ],
   "source": [
    "payload = {\n",
    "    'username': 'sarahova@gmail.com',\n",
    "    'password': 'root1234'\n",
    "}\n",
    "\n",
    "with requests.Session() as s:\n",
    "    p = s.post('http://www.glassdoor.ca/profile/login_input.htm?userOriginHook=HEADER_SIGNIN_LINK', data=payload)\n",
    "    print (p.text)"
   ]
  },
  {
   "cell_type": "code",
   "execution_count": null,
   "metadata": {},
   "outputs": [],
   "source": [
    "\n",
    "# url='https://www.glassdoor.ca/Salaries/ontario-data-analyst-salary-SRCH_IL.0,7_IS4080_KO8,20.htm'\n",
    "# response=requests.get(url)\n",
    "# soup=bs(response.text, 'lxml')\n",
    "# results=soup.find_all('div', class_=\"SalaryRowStyle_row\")\n",
    "\n",
    "# results"
   ]
  }
 ],
 "metadata": {
  "kernelspec": {
   "display_name": "Python 3",
   "language": "python",
   "name": "python3"
  },
  "language_info": {
   "codemirror_mode": {
    "name": "ipython",
    "version": 3
   },
   "file_extension": ".py",
   "mimetype": "text/x-python",
   "name": "python",
   "nbconvert_exporter": "python",
   "pygments_lexer": "ipython3",
   "version": "3.7.0"
  }
 },
 "nbformat": 4,
 "nbformat_minor": 2
}
